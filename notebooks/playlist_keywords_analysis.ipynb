{
 "cells": [
  {
   "cell_type": "markdown",
   "metadata": {},
   "source": [
    "# Preparations"
   ]
  },
  {
   "cell_type": "markdown",
   "metadata": {},
   "source": [
    "## Imports"
   ]
  },
  {
   "cell_type": "code",
   "execution_count": null,
   "metadata": {},
   "outputs": [],
   "source": [
    "import polars as pl\n",
    "\n",
    "playlists = pl.scan_parquet('../processed_data/data_playlist_metadata.parquet')\n",
    "playlist_tracks = pl.scan_parquet('../processed_data/data_playlist_songs.parquet')\n",
    "tracks = pl.scan_parquet('../processed_data/data_song_metadata.parquet')"
   ]
  },
  {
   "cell_type": "markdown",
   "metadata": {},
   "source": [
    "# Analysis"
   ]
  },
  {
   "cell_type": "markdown",
   "metadata": {},
   "source": [
    "## Tokenization"
   ]
  },
  {
   "cell_type": "code",
   "execution_count": null,
   "metadata": {},
   "outputs": [],
   "source": [
    "def tokenize(expr: pl.Expr) -> pl.Expr:\n",
    "    return expr.str.to_lowercase().str.split(' ')\n",
    "\n",
    "\n",
    "def tokenize_unique(expr: pl.Expr) -> pl.Expr:\n",
    "    return tokenize(expr)\\\n",
    "        .list.filter(pl.element().ne(''))\\\n",
    "        .list.unique(maintain_order=True)\n",
    "\n",
    "\n",
    "def tokenize_filtered(expr: pl.Expr) -> pl.Expr:\n",
    "    return (\n",
    "        tokenize_unique(expr)\n",
    "        # Filter our years & BPM ranges\n",
    "        .list.filter(~pl.element().str.contains(\"^([0-9]+|[0-9]+-[0-9]+)$\"))\n",
    "        # Filter out stuff consisting only of non-letters\n",
    "        .list.filter(pl.element().str.contains(\"[[:alpha:]]\"))\n",
    "    )"
   ]
  },
  {
   "cell_type": "markdown",
   "metadata": {},
   "source": [
    "## Playlist statistics"
   ]
  },
  {
   "cell_type": "code",
   "execution_count": null,
   "metadata": {},
   "outputs": [],
   "source": [
    "patterns: dict[str, list[str]] = {}"
   ]
  },
  {
   "cell_type": "code",
   "execution_count": null,
   "metadata": {},
   "outputs": [],
   "source": [
    "patterns[\"context\"] = pattern_context = {\n",
    "    # Competitions\n",
    "    \"comp\",\n",
    "    \"comps\",\n",
    "    \"competition\",\n",
    "    \"finals\",\n",
    "    \"heat\",  # \"heat 1\"\n",
    "    \"jnj\",\n",
    "    \"j&j\",\n",
    "    \"prelim\",\n",
    "    \"prelims\",\n",
    "    \"semis\",\n",
    "    \"spotlight\",\n",
    "    \"spotlights\",\n",
    "    \"strictly\",\n",
    "\n",
    "    # Classes\n",
    "    \"class\",\n",
    "    \"workshop\",\n",
    "    \"course\",\n",
    "\n",
    "    # Warmup\n",
    "    \"warmup\",\n",
    "    \"warm up\",\n",
    "    \"warm-up\",\n",
    "\n",
    "    # Parties\n",
    "    \"party\",\n",
    "    \"practice\",\n",
    "    \"praktis\",\n",
    "    \"social\",\n",
    "    \"socialdans\",\n",
    "    \"sosialdans\",\n",
    "    \"soirée\",\n",
    "\n",
    "    # WCS Rally / Flashmob\n",
    "    \"flashmob\",\n",
    "    \"rally\",\n",
    "\n",
    "    # Further investigation needed\n",
    "    \"weekly\",\n",
    "\n",
    "    # Party phases\n",
    "    \"closing\",\n",
    "}"
   ]
  },
  {
   "cell_type": "code",
   "execution_count": null,
   "metadata": {},
   "outputs": [],
   "source": [
    "patterns[\"genre\"] = pattern_genres = [\n",
    "    # The following genres seem to lead to precise matches\n",
    "    \"blues\",\n",
    "    \"funk\",\n",
    "    \"hip\", \"hop\",\n",
    "    \"motown\",\n",
    "    \"r&b\",\n",
    "    \"rock\", # \"soft rock\", \"alternative rock\", \"pop rock\",\n",
    "    \"soul\",\n",
    "\n",
    "    # The following genres may require more detailed examination,\n",
    "    # and may need further information to identify WCS playlists\n",
    "    # \"kpop\",\n",
    "    # \"musicals\",\n",
    "    # \"pop\",\n",
    "\n",
    "    # These aren't exactly music genres, but have a very\n",
    "    # similar meaning in the context of West Coast Swing\n",
    "    # \"acoustic\",\n",
    "    # \"guitar\",\n",
    "    # \"instrumental\",\n",
    "    # \"late\", \"night\",\n",
    "    # \"piano\",\n",
    "\n",
    "    # These are qualifiers\n",
    "    # \"fast\",\n",
    "    # \"slow\",\n",
    "    # \"medium\", # \"medium fast\", # imprecise\n",
    "\n",
    "    # The following terms probably need further investigation.\n",
    "    # Some of them seem to define \"musical feels\".\n",
    "    # \"fusion\", # imprecise\n",
    "    # \"groovy\", # -\"groovy tuesdays\"?\n",
    "    # \"smooth\",\n",
    "    # \"triple\",\n",
    "    # \"step\", # \"step step\"\n",
    "    # \"walk\",\n",
    "]"
   ]
  },
  {
   "cell_type": "code",
   "execution_count": null,
   "metadata": {},
   "outputs": [],
   "source": [
    "patterns[\"epoch\"] = pattern_epochs = [\n",
    "    # These classifications are based on time frames instead of genres\n",
    "    \"contemporary\", # \"slow contemporary\",\n",
    "    \"oldies\",\n",
    "    \"80s\", \"80's\",\n",
    "    \"90s\", \"90's\",\n",
    "    \"modern\", # imprecise\n",
    "    ### \"now\",  # imprecise\n",
    "    \"throwback\",\n",
    "]"
   ]
  },
  {
   "cell_type": "code",
   "execution_count": null,
   "metadata": {},
   "outputs": [],
   "source": [
    "patterns[\"mood\"] = pattern_moods = [\n",
    "    # These aren't musical genres but moods\n",
    "    \"calm\",\n",
    "    \"chill\",\n",
    "    \"happy\",\n",
    "    \"high\", \"energy\", # \"high energy\",\n",
    "    \"relax\", \"relaxing\",\n",
    "    \"sad\",\n",
    "    \"sexy\",\n",
    "    ### \"warm\", # -\"warm up\" # imprecise without further filtering\n",
    "]"
   ]
  },
  {
   "cell_type": "code",
   "execution_count": null,
   "metadata": {},
   "outputs": [],
   "source": [
    "patterns[\"timing\"] = pattern_timing = [\n",
    "    \"shuffle\",\n",
    "    \"smooth\",\n",
    "    \"straight\",\n",
    "    \"swung\",\n",
    "    \"ternary\",\n",
    "]"
   ]
  },
  {
   "cell_type": "code",
   "execution_count": null,
   "metadata": {},
   "outputs": [],
   "source": [
    "patterns[\"topic\"] = pattern_topics = [\n",
    "    \"bumper\",\n",
    "    ### \"connection\", # needs further filtering\n",
    "    \"drill\", \"drills\",\n",
    "    \"footwork\",\n",
    "    \"lyrical\",\n",
    "    \"musicality\",\n",
    "    \"phrase\", \"phrasing\",\n",
    "    \"rhythms\",\n",
    "]"
   ]
  },
  {
   "cell_type": "code",
   "execution_count": null,
   "metadata": {},
   "outputs": [],
   "source": [
    "patterns[\"language\"] = pattern_languages = [\n",
    "    # Note: We likely want to filter out stuff like \"French Open\", \"German Open\"\n",
    "    #       when we are trying to find e.g. \"German [Songs]\"\n",
    "    \"deutsch\",\n",
    "    \"french\",\n",
    "    \"german\",\n",
    "    \"spanish\",\n",
    "]"
   ]
  },
  {
   "cell_type": "code",
   "execution_count": null,
   "metadata": {},
   "outputs": [],
   "source": [
    "patterns[\"weird\"] = pattern_weird = [\n",
    "    \"odd\",\n",
    "    \"weird\",\n",
    "    \"strange\",\n",
    "]"
   ]
  },
  {
   "cell_type": "code",
   "execution_count": null,
   "metadata": {},
   "outputs": [],
   "source": [
    "patterns[\"too_broad\"] = pattern_too_broad = [\n",
    "    \"dance\",\n",
    "    \"love\",\n",
    "    \"remix\",\n",
    "]"
   ]
  },
  {
   "cell_type": "code",
   "execution_count": null,
   "metadata": {},
   "outputs": [],
   "source": [
    "import itertools\n",
    "\n",
    "playlists_tokenized = playlists.select(\n",
    "    pl.col('playlist.id'),\n",
    "    pl.col('playlist.name'),\n",
    "    pl.col('playlist.name').pipe(tokenize_filtered).alias('unique_terms'),\n",
    ")\n",
    "\n",
    "exploded_playlists_tokenized = playlists_tokenized\\\n",
    "    .explode('unique_terms')\\\n",
    "    .rename({'unique_terms': 'term'})\n",
    "\n",
    "tokens = exploded_playlists_tokenized\\\n",
    "    .group_by('term')\\\n",
    "    .agg(pl.col('term').count().alias('playlist_count'),\n",
    "         pl.col('playlist.name').head(20))\\\n",
    "    .sort('playlist_count', descending=True)\n",
    "\n",
    "pattern_maybe_events_or_organizers = [\n",
    "    \"tp\",\n",
    "]\n",
    "\n",
    "tokens\\\n",
    "    .filter(~pl.col('term').is_in(list(itertools.chain.from_iterable(patterns.values()))))\\\n",
    "    .filter(pl.col('playlist_count').ge(10))\\\n",
    "    .collect(engine='streaming')"
   ]
  }
 ],
 "metadata": {
  "kernelspec": {
   "display_name": "Python 3",
   "language": "python",
   "name": "python3"
  },
  "language_info": {
   "codemirror_mode": {
    "name": "ipython",
    "version": 3
   },
   "file_extension": ".py",
   "mimetype": "text/x-python",
   "name": "python",
   "nbconvert_exporter": "python",
   "pygments_lexer": "ipython3",
   "version": "3.13.5"
  }
 },
 "nbformat": 4,
 "nbformat_minor": 2
}
